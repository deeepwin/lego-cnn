{
 "cells": [
  {
   "cell_type": "markdown",
   "execution_count": null,
   "metadata": {},
   "outputs": [],
   "source": [
    "# Mask R-CNN - Inspect Lego Training Data\n",
    "\n",
    "Inspect and visualize data loading and pre-processing code."
   ]
  },
  {
   "cell_type": "code",
   "execution_count": null,
   "metadata": {},
   "outputs": [],
   "source": [
    "import os\n",
    "import sys\n",
    "import itertools\n",
    "import math\n",
    "import logging\n",
    "import json\n",
    "import re\n",
    "import random\n",
    "from collections import OrderedDict\n",
    "import numpy as np\n",
    "import matplotlib\n",
    "import matplotlib.pyplot as plt\n",
    "import matplotlib.patches as patches\n",
    "import matplotlib.lines as lines\n",
    "from matplotlib.patches import Polygon\n",
    "\n",
    "# Root directory of the project\n",
    "ROOT_DIR = os.path.abspath(\"../../\")\n",
    "\n",
    "%matplotlib inline\n",
    "\n",
    "%load_ext autoreload\n",
    "%autoreload 2\n",
    "\n",
    "# Import Mask RCNN\n",
    "sys.path.append(ROOT_DIR)  # To find local version of the library\n",
    "from mrcnn import utils\n",
    "from mrcnn import visualize\n",
    "from mrcnn.visualize import display_images\n",
    "import mrcnn.model as modellib\n",
    "from mrcnn.model import log\n",
    "from samples.lego import lego"
   ]
  },
  {
   "cell_type": "markdown",
   "execution_count": null,
   "metadata": {},
   "outputs": [],
   "source": [
    "## Load Dataset"
   ]
  },
  {
   "cell_type": "code",
   "execution_count": null,
   "metadata": {},
   "outputs": [],
   "source": [
    "# Configurations are defined in lego.py\n",
    "config = lego.LegoConfig()\n",
    "LEGO_DIR = os.path.join(ROOT_DIR, \"datasets/test\")\n",
    "\n",
    "# Load dataset\n",
    "dataset = lego.LegoDataset()\n",
    "dataset.load_lego(LEGO_DIR, \"train\")\n",
    "\n",
    "# Must call before using the dataset\n",
    "dataset.prepare()\n",
    "\n",
    "print(\"Image Count: {}\".format(len(dataset.image_ids)))\n",
    "print(\"Class Count: {}\".format(dataset.num_classes))\n",
    "for i, info in enumerate(dataset.class_info):\n",
    "    print(\"{:3}. {:50}\".format(i, info['name']))"
   ]
  },
  {
   "cell_type": "markdown",
   "execution_count": null,
   "metadata": {},
   "outputs": [],
   "source": [
    "## Display Samples\n",
    "\n",
    "Load and display images and masks."
   ]
  },
  {
   "cell_type": "code",
   "execution_count": null,
   "metadata": {},
   "outputs": [],
   "source": [
    "# Load and display random samples\n",
    "# image_ids = np.random.choice(dataset.image_ids, 4)\n",
    "image_ids = dataset.image_ids\n",
    "\n",
    "for image_id in image_ids:\n",
    "    image = dataset.load_image(image_id)\n",
    "    mask, class_ids = dataset.load_mask(image_id)\n",
    "    visualize.display_top_masks(image, mask, class_ids, dataset.class_names)"
   ]
  },
  {
   "cell_type": "markdown",
   "execution_count": null,
   "metadata": {},
   "outputs": [],
   "source": [
    "## Bounding Boxes\n",
    "\n",
    "Rather than using bounding box coordinates provided by the source datasets, we compute the bounding boxes from masks instead. This allows us to handle bounding boxes consistently regardless of the source dataset, and it also makes it easier to resize, rotate, or crop images because we simply generate the bounding boxes from the updates masks rather than computing bounding box transformation for each type of image transformation."
   ]
  },
  {
   "cell_type": "code",
   "execution_count": null,
   "metadata": {},
   "outputs": [],
   "source": [
    "# Load random image and mask.\n",
    "image_id = random.choice(dataset.image_ids)\n",
    "image = dataset.load_image(image_id)\n",
    "mask, class_ids = dataset.load_mask(image_id)\n",
    "\n",
    "# Compute Bounding box\n",
    "bbox = utils.extract_bboxes(mask)\n",
    "\n",
    "# Display image and additional stats\n",
    "print(\"image_id \", image_id, dataset.image_reference(image_id))\n",
    "log(\"image\", image)\n",
    "log(\"mask\", mask)\n",
    "log(\"class_ids\", class_ids)\n",
    "log(\"bbox\", bbox)\n",
    "# Display image and instances\n",
    "visualize.display_instances(image, bbox, mask, class_ids, dataset.class_names)"
   ]
  },
  {
   "cell_type": "markdown",
   "execution_count": null,
   "metadata": {},
   "outputs": [],
   "source": [
    "## Resize Images\n",
    "\n",
    "To support multiple images per batch, images are resized to one size (1024x1024). Aspect ratio is preserved, though. If an image is not square, then zero padding is added at the top/bottom or right/left."
   ]
  },
  {
   "cell_type": "code",
   "execution_count": null,
   "metadata": {},
   "outputs": [],
   "source": [
    "# Load random image and mask.\n",
    "image_id = np.random.choice(dataset.image_ids, 1)[0]\n",
    "image = dataset.load_image(image_id)\n",
    "mask, class_ids = dataset.load_mask(image_id)\n",
    "original_shape = image.shape\n",
    "# Resize\n",
    "image, window, scale, padding, _ = utils.resize_image(\n",
    "    image, \n",
    "    min_dim=config.IMAGE_MIN_DIM, \n",
    "    max_dim=config.IMAGE_MAX_DIM,\n",
    "    mode=config.IMAGE_RESIZE_MODE)\n",
    "mask = utils.resize_mask(mask, scale, padding)\n",
    "# Compute Bounding box\n",
    "bbox = utils.extract_bboxes(mask)\n",
    "\n",
    "# Display image and additional stats\n",
    "print(\"image_id: \", image_id, dataset.image_reference(image_id))\n",
    "print(\"Original shape: \", original_shape)\n",
    "log(\"image\", image)\n",
    "log(\"mask\", mask)\n",
    "log(\"class_ids\", class_ids)\n",
    "log(\"bbox\", bbox)\n",
    "# Display image and instances\n",
    "visualize.display_instances(image, bbox, mask, class_ids, dataset.class_names)"
   ]
  },
  {
   "cell_type": "markdown",
   "execution_count": null,
   "metadata": {},
   "outputs": [],
   "source": [
    "## Mini Masks\n",
    "\n",
    "Instance binary masks can get large when training with high resolution images. For example, if training with 1024x1024 image then the mask of a single instance requires 1MB of memory (Numpy uses bytes for boolean values). If an image has 100 instances then that's 100MB for the masks alone. \n",
    "\n",
    "To improve training speed, we optimize masks by:\n",
    "* We store mask pixels that are inside the object bounding box, rather than a mask of the full image. Most objects are small compared to the image size, so we save space by not storing a lot of zeros around the object.\n",
    "* We resize the mask to a smaller size (e.g. 56x56). For objects that are larger than the selected size we lose a bit of accuracy. But most object annotations are not very accuracy to begin with, so this loss is negligable for most practical purposes. Thie size of the mini_mask can be set in the config class.\n",
    "\n",
    "To visualize the effect of mask resizing, and to verify the code correctness, we visualize some examples."
   ]
  },
  {
   "cell_type": "code",
   "execution_count": null,
   "metadata": {},
   "outputs": [],
   "source": [
    "image_id = np.random.choice(dataset.image_ids, 1)[0]\n",
    "image, image_meta, class_ids, bbox, mask = modellib.load_image_gt(\n",
    "    dataset, config, image_id, use_mini_mask=False)\n",
    "\n",
    "log(\"image\", image)\n",
    "log(\"image_meta\", image_meta)\n",
    "log(\"class_ids\", class_ids)\n",
    "log(\"bbox\", bbox)\n",
    "log(\"mask\", mask)\n",
    "\n",
    "display_images([image]+[mask[:,:,i] for i in range(min(mask.shape[-1], 7))])"
   ]
  },
  {
   "cell_type": "code",
   "execution_count": null,
   "metadata": {},
   "outputs": [],
   "source": [
    "visualize.display_instances(image, bbox, mask, class_ids, dataset.class_names)"
   ]
  },
  {
   "cell_type": "code",
   "execution_count": null,
   "metadata": {},
   "outputs": [],
   "source": [
    "# Add augmentation and mask resizing.\n",
    "image, image_meta, class_ids, bbox, mask = modellib.load_image_gt(\n",
    "    dataset, config, image_id, augment=True, use_mini_mask=True)\n",
    "log(\"mask\", mask)\n",
    "display_images([image]+[mask[:,:,i] for i in range(min(mask.shape[-1], 7))])"
   ]
  },
  {
   "cell_type": "code",
   "execution_count": null,
   "metadata": {},
   "outputs": [],
   "source": [
    "mask = utils.expand_mask(bbox, mask, image.shape)\n",
    "visualize.display_instances(image, bbox, mask, class_ids, dataset.class_names)"
   ]
  },
  {
   "cell_type": "markdown",
   "execution_count": null,
   "metadata": {},
   "outputs": [],
   "source": [
    "## Anchors\n",
    "\n",
    "The order of anchors is important. Use the same order in training and prediction phases. And it must match the order of the convolution execution.\n",
    "\n",
    "For an FPN network, the anchors must be ordered in a way that makes it easy to match anchors to the output of the convolution layers that predict anchor scores and shifts. \n",
    "* Sort by pyramid level first. All anchors of the first level, then all of the second and so on. This makes it easier to separate anchors by level.\n",
    "* Within each level, sort anchors by feature map processing sequence. Typically, a convolution layer processes a feature map starting from top-left and moving right row by row. \n",
    "* For each feature map cell, pick any sorting order for the anchors of different ratios. Here we match the order of ratios passed to the function.\n",
    "\n",
    "**Anchor Stride:**\n",
    "In the FPN architecture, feature maps at the first few layers are high resolution. For example, if the input image is 1024x1024 then the feature meap of the first layer is 256x256, which generates about 200K anchors (256*256*3). These anchors are 32x32 pixels and their stride relative to image pixels is 4 pixels, so there is a lot of overlap. We can reduce the load significantly if we generate anchors for every other cell in the feature map. A stride of 2 will cut the number of anchors by 4, for example. \n",
    "\n",
    "In this implementation we use an anchor stride of 2, which is different from the paper."
   ]
  },
  {
   "cell_type": "code",
   "execution_count": null,
   "metadata": {},
   "outputs": [],
   "source": [
    "# Generate Anchors\n",
    "backbone_shapes = modellib.compute_backbone_shapes(config, config.IMAGE_SHAPE)\n",
    "anchors = utils.generate_pyramid_anchors(config.RPN_ANCHOR_SCALES, \n",
    "                                        config.RPN_ANCHOR_RATIOS,\n",
    "                                        backbone_shapes,\n",
    "                                        config.BACKBONE_STRIDES, \n",
    "                                        config.RPN_ANCHOR_STRIDE)\n",
    "\n",
    "# Print summary of anchors\n",
    "num_levels = len(backbone_shapes)\n",
    "anchors_per_cell = len(config.RPN_ANCHOR_RATIOS)\n",
    "print(\"Count: \", anchors.shape[0])\n",
    "print(\"Scales: \", config.RPN_ANCHOR_SCALES)\n",
    "print(\"ratios: \", config.RPN_ANCHOR_RATIOS)\n",
    "print(\"Anchors per Cell: \", anchors_per_cell)\n",
    "print(\"Levels: \", num_levels)\n",
    "anchors_per_level = []\n",
    "for l in range(num_levels):\n",
    "    num_cells = backbone_shapes[l][0] * backbone_shapes[l][1]\n",
    "    anchors_per_level.append(anchors_per_cell * num_cells // config.RPN_ANCHOR_STRIDE**2)\n",
    "    print(\"Anchors in Level {}: {}\".format(l, anchors_per_level[l]))"
   ]
  },
  {
   "cell_type": "markdown",
   "execution_count": null,
   "metadata": {},
   "outputs": [],
   "source": [
    "Visualize anchors of one cell at the center of the feature map of a specific level."
   ]
  },
  {
   "cell_type": "code",
   "execution_count": null,
   "metadata": {},
   "outputs": [],
   "source": [
    "## Visualize anchors of one cell at the center of the feature map of a specific level\n",
    "\n",
    "# Load and draw random image\n",
    "image_id = np.random.choice(dataset.image_ids, 1)[0]\n",
    "image, image_meta, _, _, _ = modellib.load_image_gt(dataset, config, image_id)\n",
    "fig, ax = plt.subplots(1, figsize=(10, 10))\n",
    "ax.imshow(image)\n",
    "levels = len(backbone_shapes)\n",
    "\n",
    "for level in range(levels):\n",
    "    colors = visualize.random_colors(levels)\n",
    "    # Compute the index of the anchors at the center of the image\n",
    "    level_start = sum(anchors_per_level[:level]) # sum of anchors of previous levels\n",
    "    level_anchors = anchors[level_start:level_start+anchors_per_level[level]]\n",
    "    print(\"Level {}. Anchors: {:6}  Feature map Shape: {}\".format(level, level_anchors.shape[0], \n",
    "                                                                  backbone_shapes[level]))\n",
    "    center_cell = backbone_shapes[level] // 2\n",
    "    center_cell_index = (center_cell[0] * backbone_shapes[level][1] + center_cell[1])\n",
    "    level_center = center_cell_index * anchors_per_cell \n",
    "    center_anchor = anchors_per_cell * (\n",
    "        (center_cell[0] * backbone_shapes[level][1] / config.RPN_ANCHOR_STRIDE**2) \\\n",
    "        + center_cell[1] / config.RPN_ANCHOR_STRIDE)\n",
    "    level_center = int(center_anchor)\n",
    "\n",
    "    # Draw anchors. Brightness show the order in the array, dark to bright.\n",
    "    for i, rect in enumerate(level_anchors[level_center:level_center+anchors_per_cell]):\n",
    "        y1, x1, y2, x2 = rect\n",
    "        p = patches.Rectangle((x1, y1), x2-x1, y2-y1, linewidth=2, facecolor='none',\n",
    "                              edgecolor=(i+1)*np.array(colors[level]) / anchors_per_cell)\n",
    "        ax.add_patch(p)\n"
   ]
  },
  {
   "cell_type": "markdown",
   "execution_count": null,
   "metadata": {},
   "outputs": [],
   "source": [
    "## Data Generator\n"
   ]
  },
  {
   "cell_type": "code",
   "execution_count": null,
   "metadata": {},
   "outputs": [],
   "source": [
    "# Create data generator\n",
    "random_rois = 2000\n",
    "g = modellib.data_generator(\n",
    "    dataset, config, shuffle=True, random_rois=random_rois, \n",
    "    batch_size=4,\n",
    "    detection_targets=True)"
   ]
  },
  {
   "cell_type": "code",
   "execution_count": null,
   "metadata": {},
   "outputs": [],
   "source": [
    "# Uncomment to run the generator through a lot of images\n",
    "# to catch rare errors\n",
    "for i in range(10):\n",
    "    print(i)\n",
    "    _, _ = next(g)"
   ]
  },
  {
   "cell_type": "code",
   "execution_count": null,
   "metadata": {},
   "outputs": [],
   "source": [
    "# Get Next Image\n",
    "if random_rois:\n",
    "    [normalized_images, image_meta, rpn_match, rpn_bbox, gt_class_ids, gt_boxes, gt_masks, rpn_rois, rois], \\\n",
    "    [mrcnn_class_ids, mrcnn_bbox, mrcnn_mask] = next(g)\n",
    "    \n",
    "    log(\"rois\", rois)\n",
    "    log(\"mrcnn_class_ids\", mrcnn_class_ids)\n",
    "    log(\"mrcnn_bbox\", mrcnn_bbox)\n",
    "    log(\"mrcnn_mask\", mrcnn_mask)\n",
    "else:\n",
    "    [normalized_images, image_meta, rpn_match, rpn_bbox, gt_boxes, gt_masks], _ = next(g)\n",
    "    \n",
    "log(\"gt_class_ids\", gt_class_ids)\n",
    "log(\"gt_boxes\", gt_boxes)\n",
    "log(\"gt_masks\", gt_masks)\n",
    "log(\"rpn_match\", rpn_match, )\n",
    "log(\"rpn_bbox\", rpn_bbox)\n",
    "image_id = modellib.parse_image_meta(image_meta)[\"image_id\"][0]\n",
    "print(\"image_id: \", image_id, dataset.image_reference(image_id))\n",
    "\n",
    "# Remove the last dim in mrcnn_class_ids. It's only added\n",
    "# to satisfy Keras restriction on target shape.\n",
    "mrcnn_class_ids = mrcnn_class_ids[:,:,0]"
   ]
  },
  {
   "cell_type": "code",
   "execution_count": null,
   "metadata": {},
   "outputs": [],
   "source": [
    "b = 0\n",
    "\n",
    "# Restore original image (reverse normalization)\n",
    "sample_image = modellib.unmold_image(normalized_images[b], config)\n",
    "\n",
    "# Compute anchor shifts.\n",
    "indices = np.where(rpn_match[b] == 1)[0]\n",
    "refined_anchors = utils.apply_box_deltas(anchors[indices], rpn_bbox[b, :len(indices)] * config.RPN_BBOX_STD_DEV)\n",
    "log(\"anchors\", anchors)\n",
    "log(\"refined_anchors\", refined_anchors)\n",
    "\n",
    "# Get list of positive anchors\n",
    "positive_anchor_ids = np.where(rpn_match[b] == 1)[0]\n",
    "print(\"Positive anchors: {}\".format(len(positive_anchor_ids)))\n",
    "negative_anchor_ids = np.where(rpn_match[b] == -1)[0]\n",
    "print(\"Negative anchors: {}\".format(len(negative_anchor_ids)))\n",
    "neutral_anchor_ids = np.where(rpn_match[b] == 0)[0]\n",
    "print(\"Neutral anchors: {}\".format(len(neutral_anchor_ids)))\n",
    "\n",
    "# ROI breakdown by class\n",
    "for c, n in zip(dataset.class_names, np.bincount(mrcnn_class_ids[b].flatten())):\n",
    "    if n:\n",
    "        print(\"{:23}: {}\".format(c[:20], n))\n",
    "\n",
    "# Show positive anchors\n",
    "fig, ax = plt.subplots(1, figsize=(16, 16))\n",
    "visualize.draw_boxes(sample_image, boxes=anchors[positive_anchor_ids], \n",
    "                     refined_boxes=refined_anchors, ax=ax)"
   ]
  },
  {
   "cell_type": "code",
   "execution_count": null,
   "metadata": {},
   "outputs": [],
   "source": [
    "# Show negative anchors\n",
    "visualize.draw_boxes(sample_image, boxes=anchors[negative_anchor_ids])"
   ]
  },
  {
   "cell_type": "code",
   "execution_count": null,
   "metadata": {},
   "outputs": [],
   "source": [
    "# Show neutral anchors. They don't contribute to training.\n",
    "visualize.draw_boxes(sample_image, boxes=anchors[np.random.choice(neutral_anchor_ids, 100)])"
   ]
  },
  {
   "cell_type": "markdown",
   "execution_count": null,
   "metadata": {},
   "outputs": [],
   "source": [
    "## ROIs"
   ]
  },
  {
   "cell_type": "code",
   "execution_count": null,
   "metadata": {},
   "outputs": [],
   "source": [
    "if random_rois:\n",
    "    # Class aware bboxes\n",
    "    bbox_specific = mrcnn_bbox[b, np.arange(mrcnn_bbox.shape[1]), mrcnn_class_ids[b], :]\n",
    "\n",
    "    # Refined ROIs\n",
    "    refined_rois = utils.apply_box_deltas(rois[b].astype(np.float32), bbox_specific[:,:4] * config.BBOX_STD_DEV)\n",
    "\n",
    "    # Class aware masks\n",
    "    mask_specific = mrcnn_mask[b, np.arange(mrcnn_mask.shape[1]), :, :, mrcnn_class_ids[b]]\n",
    "\n",
    "    visualize.draw_rois(sample_image, rois[b], refined_rois, mask_specific, mrcnn_class_ids[b], dataset.class_names)\n",
    "    \n",
    "    # Any repeated ROIs?\n",
    "    rows = np.ascontiguousarray(rois[b]).view(np.dtype((np.void, rois.dtype.itemsize * rois.shape[-1])))\n",
    "    _, idx = np.unique(rows, return_index=True)\n",
    "    print(\"Unique ROIs: {} out of {}\".format(len(idx), rois.shape[1]))"
   ]
  },
  {
   "cell_type": "code",
   "execution_count": null,
   "metadata": {},
   "outputs": [],
   "source": [
    "if random_rois:\n",
    "    # Dispalay ROIs and corresponding masks and bounding boxes\n",
    "    ids = random.sample(range(rois.shape[1]), 8)\n",
    "\n",
    "    images = []\n",
    "    titles = []\n",
    "    for i in ids:\n",
    "        image = visualize.draw_box(sample_image.copy(), rois[b,i,:4].astype(np.int32), [255, 0, 0])\n",
    "        image = visualize.draw_box(image, refined_rois[i].astype(np.int64), [0, 255, 0])\n",
    "        images.append(image)\n",
    "        titles.append(\"ROI {}\".format(i))\n",
    "        images.append(mask_specific[i] * 255)\n",
    "        titles.append(dataset.class_names[mrcnn_class_ids[b,i]][:20])\n",
    "\n",
    "    display_images(images, titles, cols=4, cmap=\"Blues\", interpolation=\"none\")"
   ]
  },
  {
   "cell_type": "code",
   "execution_count": null,
   "metadata": {},
   "outputs": [],
   "source": [
    "# Check ratio of positive ROIs in a set of images.\n",
    "if random_rois:\n",
    "    limit = 10\n",
    "    temp_g = modellib.data_generator(\n",
    "        dataset, config, shuffle=True, random_rois=10000, \n",
    "        batch_size=1, detection_targets=True)\n",
    "    total = 0\n",
    "    for i in range(limit):\n",
    "        _, [ids, _, _] = next(temp_g)\n",
    "        positive_rois = np.sum(ids[0] > 0)\n",
    "        total += positive_rois\n",
    "        print(\"{:5} {:5.2f}\".format(positive_rois, positive_rois/ids.shape[1]))\n",
    "    print(\"Average percent: {:.2f}\".format(total/(limit*ids.shape[1])))"
   ]
  },
  {
   "cell_type": "code",
   "execution_count": null,
   "metadata": {
    "collapsed": true
   },
   "outputs": [],
   "source": []
  }
 ],
 "metadata": {
  "kernelspec": {
   "display_name": "Python 3.5.5 64-bit ('maskrcnn': conda)",
   "language": "python",
   "name": "python35564bitmaskrcnnconda12328bed15fa469aad72f1a08ed0d096"
  },
  "language_info": {
   "codemirror_mode": {
    "name": "ipython",
    "version": 3
   },
   "file_extension": ".py",
   "mimetype": "text/x-python",
   "name": "python",
   "nbconvert_exporter": "python",
   "pygments_lexer": "ipython3",
   "version": "3.5.5-final"
  }
 },
 "nbformat": 4,
 "nbformat_minor": 2
}